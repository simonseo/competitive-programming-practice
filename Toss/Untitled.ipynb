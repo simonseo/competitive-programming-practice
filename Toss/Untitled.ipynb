{
 "cells": [
  {
   "cell_type": "code",
   "execution_count": 3,
   "metadata": {},
   "outputs": [
    {
     "data": {
      "text/plain": [
       "True"
      ]
     },
     "execution_count": 3,
     "metadata": {},
     "output_type": "execute_result"
    }
   ],
   "source": [
    "2 == 2 == 2"
   ]
  },
  {
   "cell_type": "code",
   "execution_count": 4,
   "metadata": {},
   "outputs": [
    {
     "data": {
      "text/plain": [
       "('1', '2')"
      ]
     },
     "execution_count": 4,
     "metadata": {},
     "output_type": "execute_result"
    }
   ],
   "source": [
    "tuple('12')"
   ]
  },
  {
   "cell_type": "code",
   "execution_count": 10,
   "metadata": {},
   "outputs": [
    {
     "data": {
      "text/plain": [
       "False"
      ]
     },
     "execution_count": 10,
     "metadata": {},
     "output_type": "execute_result"
    }
   ],
   "source": [
    "'-1'.isnumeric()"
   ]
  },
  {
   "cell_type": "code",
   "execution_count": 37,
   "metadata": {},
   "outputs": [
    {
     "data": {
      "text/plain": [
       "['1', '1', '2', '3', '5']"
      ]
     },
     "execution_count": 37,
     "metadata": {},
     "output_type": "execute_result"
    }
   ],
   "source": [
    "sorted(list('15321'))# == ['1', '1', '3', '2', '5']"
   ]
  },
  {
   "cell_type": "code",
   "execution_count": 26,
   "metadata": {},
   "outputs": [
    {
     "data": {
      "text/plain": [
       "True"
      ]
     },
     "execution_count": 26,
     "metadata": {},
     "output_type": "execute_result"
    }
   ],
   "source": [
    "'45' in dict(zip(map(str, range(1,46)), range(1,46)))"
   ]
  },
  {
   "cell_type": "code",
   "execution_count": 27,
   "metadata": {},
   "outputs": [
    {
     "name": "stdout",
     "output_type": "stream",
     "text": [
      "0 1 2 3 4 5 6 7 8 9\n"
     ]
    }
   ],
   "source": [
    "print(*list(range(10)))"
   ]
  },
  {
   "cell_type": "code",
   "execution_count": 29,
   "metadata": {},
   "outputs": [
    {
     "ename": "ValueError",
     "evalue": "list.remove(x): x not in list",
     "output_type": "error",
     "traceback": [
      "\u001b[0;31m---------------------------------------------------------------------------\u001b[0m",
      "\u001b[0;31mValueError\u001b[0m                                Traceback (most recent call last)",
      "\u001b[0;32m<ipython-input-29-af9ebffde6ff>\u001b[0m in \u001b[0;36m<module>\u001b[0;34m\u001b[0m\n\u001b[0;32m----> 1\u001b[0;31m \u001b[0mlist\u001b[0m\u001b[0;34m(\u001b[0m\u001b[0mrange\u001b[0m\u001b[0;34m(\u001b[0m\u001b[0;36m10\u001b[0m\u001b[0;34m)\u001b[0m\u001b[0;34m)\u001b[0m\u001b[0;34m.\u001b[0m\u001b[0mremove\u001b[0m\u001b[0;34m(\u001b[0m\u001b[0;36m11\u001b[0m\u001b[0;34m)\u001b[0m\u001b[0;34m\u001b[0m\u001b[0;34m\u001b[0m\u001b[0m\n\u001b[0m",
      "\u001b[0;31mValueError\u001b[0m: list.remove(x): x not in list"
     ]
    }
   ],
   "source": [
    "list(range(10)).remove(11)"
   ]
  },
  {
   "cell_type": "code",
   "execution_count": 30,
   "metadata": {},
   "outputs": [],
   "source": [
    "l = []"
   ]
  },
  {
   "cell_type": "code",
   "execution_count": 32,
   "metadata": {},
   "outputs": [
    {
     "name": "stdout",
     "output_type": "stream",
     "text": [
      "1 3\n",
      "2 31\n",
      "3 2\n",
      "35 3\n",
      "5 35\n"
     ]
    }
   ],
   "source": [
    "kim = map(int, '1 2 3 35 5'.split())\n",
    "lee = map(int, '3 31 2 3 35 5'.split())\n",
    "for k, l in zip(kim, lee):\n",
    "    print(k,l)"
   ]
  },
  {
   "cell_type": "markdown",
   "metadata": {},
   "source": [
    "<div class=\"U7YLob\">1번문제 내용 중 단어 변경이 있어 안내드립니다.<br>*반환 &gt; 출력<br>위 내용을 참고해여 해당 문제를 다시 한번 확인해주시기 바랍니다.<br>감사합니다.</div>"
   ]
  },
  {
   "cell_type": "code",
   "execution_count": 36,
   "metadata": {},
   "outputs": [
    {
     "data": {
      "text/plain": [
       "False"
      ]
     },
     "execution_count": 36,
     "metadata": {},
     "output_type": "execute_result"
    }
   ],
   "source": [
    "l = '1 3 5 7 7 9'.split()\n",
    "(len(l) == len(set(l)) == 6)"
   ]
  },
  {
   "cell_type": "code",
   "execution_count": 41,
   "metadata": {},
   "outputs": [
    {
     "data": {
      "text/plain": [
       "45"
      ]
     },
     "execution_count": 41,
     "metadata": {},
     "output_type": "execute_result"
    }
   ],
   "source": [
    "int('45')"
   ]
  },
  {
   "cell_type": "markdown",
   "metadata": {},
   "source": [
    "### 서술형 1\n",
    "특정 언어를 하나 선택하여 hello world를 출력하는 소스 코드를 작성한다고 했을 때,\n",
    "어떤 언어를 선택했는지 적어 주시고 해당 소스 코드가 실제 수행되는 전체적인 과정을 적어주십시오."
   ]
  },
  {
   "cell_type": "markdown",
   "metadata": {},
   "source": [
    "파이썬 언어에서는\n",
    "1. 인터프리터가 코드를 토큰화하고 파서로 토큰을 분석하면서 syntax error 등을 찾아내고 컴파일 하기 쉽도록 정리해준다.\n",
    "2. 머신이 이해할 수 있는 바이트코드로 (.pyc파일로) 컴파일된다.\n",
    "3. 프로세스를 만들어 힙 메모리에 바이트코드를 올리고 실행한다. \n",
    "4. 하이레벨 관점에서는 실행은 파이썬 코드의 맨 위부터 차례대로 실행이 되고 print 함수가 실행될 때는 C 등으로 작성된 로우레벨 API를 실행한다.\n",
    "5. 작업이 끝나면 Garbage Collection으로 자원을 반환하고 프로세스를 kill 하고 자원 회수한다."
   ]
  },
  {
   "cell_type": "markdown",
   "metadata": {},
   "source": [
    "### 서술형 2\n",
    "웹브라우저에서 보안을 위해 https://toss.im 주소를 입력하고 엔터를 눌렀습니다.\n",
    "그때부터 페이지가 열릴 때까지 PC에서 일어나는 네트워크 과정을 설명해주십시오."
   ]
  },
  {
   "cell_type": "markdown",
   "metadata": {},
   "source": [
    "1. 브라우저에서 DNS로 toss.im의 IP주소를 확인\n",
    "2. 해당 IP 주소와 TCP 3-way 핸드쉐이크로 커넥션 확립\n",
    "3. SSL 핸드쉐이크로 서버의 TLS/SSL certificate을 받고 확인하여 세션 확립\n",
    "4. toss.im의 서버에서 최초 응답 (HTML 형태일 것) 을 브라우저에서 받음\n",
    "5. 그 HTML에 작성된 내용에 따라 CSS/JS/media 파일들을 요청하고 \n",
    "6. 그에 대한 응답도 받으면서 차례차례 화면에 렌더링을 함"
   ]
  },
  {
   "cell_type": "markdown",
   "metadata": {},
   "source": [
    "### 서술형 3\n",
    "유저가 클릭하면 리워드가 지급되고 알림이 발송되는 시스템이 필요합니다.\n",
    "해당 시스템을 개발하기 위해 어떤 컴포넌트(예:DB등)가 필요한지 그리고 그 이유가 무엇인지 설명해주십시오.\n",
    "\n",
    "\n",
    "\n",
    "조건\n",
    "\n",
    "시스템은 확장 가능해야 함.\n",
    "리워드는 중복으로 지급 불가능함.\n",
    "알림은 상황에 따라 늦게 발송될 수 있음. "
   ]
  },
  {
   "cell_type": "markdown",
   "metadata": {},
   "source": [
    "1. 세션, 로그인 관리 컴포넌트. user authentication을 해서 올바른 사용자가 클릭한것인지 공정성을 위해 확인해야 합니다.\n",
    "2. DB. 클릭여부와 리워드 지급여부를 저장합니다. 둘 다 저장하는 이유는 중복 지급을 방지하고, 리워드를 변경하거나 모종의 이유로 리워드 지급을 replay해야 하면 둘 다 필요합니다.\n",
    "3. DB. 알림 내용, 발생 일시, 확인 일시 등을 저장합니다.\n",
    "4. Push Notification 서비스 컴포넌트. 모바일 앱이라면 여러 종류의 푸시 노티를 한번에 관리할 수 있도록 묶어주는 컴포넌트 필요합니다.\n",
    "5.로드 밸런서. 접속이 몰리는게 예상된다면 사용자가 원활하게 진행할 수 있도록 분산처리를 해줍니다.\n",
    "6. 배치 스케쥴러. 접속이 몰리는게 예상되면 서버 자원 분산을 위해 나중에 배치 처리를 하는게 좋을 수도 있기 때문."
   ]
  },
  {
   "cell_type": "markdown",
   "metadata": {},
   "source": [
    "### 서술형 4\n",
    "서버 애플리케이션에서 동시 요청이 증가하여 응답 지연이 발생했습니다.\n",
    "원인이 될 만한 요소를 나열하고 각각의 개선 방법을 제안해주십시오."
   ]
  },
  {
   "cell_type": "markdown",
   "metadata": {},
   "source": [
    "당장은 근본적인 원인을 찾지 못하더라도 단기적으로라도 동시 요청에 대응하기 위해 Load Balancer나 AWS의 Spot Instance를 늘리는게 좋을 것 같습니다.\n",
    "장기적으로는 다음 요소들을 고려해봐야 합니다: \n",
    "1. 애플리케이션 비즈니스 로직 성능. APM을 이용해서 자원 사용률을 확인합니다. 버그가 없는지, 오류처리를 정확히 하고 있는지, 재시도를 너무 많이 하는지 등을 확인하고 주요 알고리즘들의 복잡도를 고려해 최적화합니다. 렌더링을 서비스에 따라 클라이언트 사이드에서 할지 서버사이드에서 할지 고려해봐야합니다.\n",
    "2. 데이터베이스 성능. 커넥션이 동시에 몇개 정도 다룰 수 있는지 확인하고, 쿼리를 옵티마이저나 힌트를 써서 최적화하고, 너무 잦은 커넥션은 자제합니다. 데이터베이스 분산이나 반정규화로 성능을 높일 수도 있습니다.\n",
    "3. 멀티미디어 파일의 용량 과다: CDN을 설치하거나 파일들은 압축, 통합해서 관리하는 방법이 있겠습니다. 같은 자원은 캐시될 수 있도록 설계합니다.\n",
    "4. 외부 API 의존성 줄이기 혹은 더 안정성, 가용성 높은 API로 변경하기. 해외 API를 사용한다면 특히 응답시간이 길어질 수 있기 때문에 더 자세히 고려해봐야합니다.\n",
    "5. 재발 방지를 위해 아키첵쳐나 코드 수정 후에 LoadRunner/ JMeter 등으로 로드테스팅을 진행합니다.\n"
   ]
  },
  {
   "cell_type": "code",
   "execution_count": null,
   "metadata": {},
   "outputs": [],
   "source": []
  }
 ],
 "metadata": {
  "kernelspec": {
   "display_name": "Python 3.8.2 64-bit ('3.8.2': pyenv)",
   "language": "python",
   "name": "python38264bit382pyenv410d860b48124e8a96b1a26d077bec14"
  },
  "language_info": {
   "codemirror_mode": {
    "name": "ipython",
    "version": 3
   },
   "file_extension": ".py",
   "mimetype": "text/x-python",
   "name": "python",
   "nbconvert_exporter": "python",
   "pygments_lexer": "ipython3",
   "version": "3.8.2"
  }
 },
 "nbformat": 4,
 "nbformat_minor": 4
}
