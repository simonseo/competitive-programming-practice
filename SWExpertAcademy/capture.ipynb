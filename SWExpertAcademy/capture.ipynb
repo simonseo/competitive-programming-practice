{
 "cells": [
  {
   "cell_type": "code",
   "execution_count": 30,
   "metadata": {},
   "outputs": [],
   "source": [
    "\n",
    "def stack_to_str(stack):\n",
    "    return ''.join(map(str, stack))\n",
    "\n",
    "def stack_to_number(stack):\n",
    "    return sum(map(lambda e: e[1]*10**e[0], enumerate(stack[::-1])))\n",
    "\n",
    "def print_stack(stack):\n",
    "    print(f\"{stack_to_number(stack)}.png\",end=' ')\n",
    "\n",
    "# stack_to_number(stack)"
   ]
  },
  {
   "cell_type": "code",
   "execution_count": 38,
   "metadata": {},
   "outputs": [
    {
     "name": "stdout",
     "output_type": "stream",
     "text": [
      "1.png "
     ]
    }
   ],
   "source": [
    "def stack_to_number(stack):\n",
    "    return sum(map(lambda e: e[1]*10**e[0], enumerate(stack[::-1])))\n",
    "\n",
    "def print_stack(stack):\n",
    "    print(f\"{stack_to_number(stack)}.png\",end=' ')\n",
    "\n",
    "def solution(limit=131):\n",
    "    stack = [1]\n",
    "    print_stack(stack)\n",
    "    for i in range(49):\n",
    "        stack.append(0)\n",
    "        if stack_to_number(stack) <= limit:\n",
    "            print_stack(stack)\n",
    "            continue\n",
    "        stack.pop()\n",
    "\n",
    "        last = stack.pop()\n",
    "        while last == 9:\n",
    "            if not stack:\n",
    "                return\n",
    "            last = stack.pop()\n",
    "\n",
    "        stack.append(last+1)\n",
    "        if stack_to_number(stack) <= limit:\n",
    "            print_stack(stack)\n",
    "            continue\n",
    "        stack.pop()\n",
    "        if not stack:\n",
    "            return\n",
    "        stack[-1] += 1\n",
    "        print_stack(stack)\n",
    "        \n",
    "        \n",
    "solution(limit=1)\n",
    "        \n"
   ]
  },
  {
   "cell_type": "code",
   "execution_count": 39,
   "metadata": {},
   "outputs": [
    {
     "data": {
      "text/plain": [
       "[4, 3, 2, 1]"
      ]
     },
     "execution_count": 39,
     "metadata": {},
     "output_type": "execute_result"
    }
   ],
   "source": [
    "stack = [1,2,3,4]\n",
    "stack[::-1]"
   ]
  },
  {
   "cell_type": "code",
   "execution_count": 6,
   "metadata": {},
   "outputs": [
    {
     "name": "stdout",
     "output_type": "stream",
     "text": [
      "#1 yes\n"
     ]
    }
   ],
   "source": [
    "import math\n",
    "\n",
    "def solution(candidates):\n",
    "    minimum = min(candidates)\n",
    "    maximum = max(candidates)\n",
    "    max_range = maximum-minimum\n",
    "    max_jump = int(math.log2(max_range))+1\n",
    "    jumps = [2**i for i in range(max_jump)]\n",
    "    count = [0 for i in range(max_jump)]\n",
    "    for i1 in range(len(candidates)):\n",
    "        for i2 in range(i1+1, len(candidates)):\n",
    "            c1 = candidates[i1]\n",
    "            c2 = candidates[i2]\n",
    "            d = abs(c1-c2)\n",
    "            if d in jumps:\n",
    "                i = jumps.index(d)\n",
    "                count[i] += 1\n",
    "                if count[i] > 2:\n",
    "                    print(\"no\")\n",
    "                    return\n",
    "    print(\"yes\")\n",
    "    \n",
    "T = int(input())\n",
    "# 여러개의 테스트 케이스가 주어지므로, 각각을 처리합니다.\n",
    "for test_case in range(1, T + 1):\n",
    "    print(f\"#{test_case}\", end=' ')\n",
    "    input()\n",
    "    candidates = list(map(int, input().split()))\n",
    "    solution(candidates)\n"
   ]
  },
  {
   "cell_type": "code",
   "execution_count": null,
   "metadata": {},
   "outputs": [],
   "source": []
  }
 ],
 "metadata": {
  "kernelspec": {
   "display_name": "Python 3",
   "language": "python",
   "name": "python3"
  },
  "language_info": {
   "codemirror_mode": {
    "name": "ipython",
    "version": 3
   },
   "file_extension": ".py",
   "mimetype": "text/x-python",
   "name": "python",
   "nbconvert_exporter": "python",
   "pygments_lexer": "ipython3",
   "version": "3.8.2"
  },
  "orig_nbformat": 4,
  "vscode": {
   "interpreter": {
    "hash": "69634c74072312818f99490b00135a351411237456d92ba5dab7fb7cf98fe04c"
   }
  }
 },
 "nbformat": 4,
 "nbformat_minor": 2
}
